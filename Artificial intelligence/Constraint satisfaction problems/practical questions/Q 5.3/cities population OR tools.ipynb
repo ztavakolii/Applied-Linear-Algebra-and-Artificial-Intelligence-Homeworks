{
 "cells": [
  {
   "cell_type": "code",
   "execution_count": 11,
   "metadata": {},
   "outputs": [
    {
     "name": "stdout",
     "output_type": "stream",
     "text": [
      "The population of cities are:  [1000000000, 999998000, 999996000, 999998000]\n"
     ]
    }
   ],
   "source": [
    "from ortools.sat.python import cp_model\n",
    "import math\n",
    "\n",
    "def solve_problem(n,m,graph): # n = number of cities   m = number of roads   graph = adjacency list of neighborhoods\n",
    "    model = cp_model.CpModel()\n",
    "\n",
    "    x=[model.NewIntVar(1,10**9,f'x_{i}') for i in range(n)] # x[i] is the population of city i\n",
    "\n",
    "    for i,j in graph:\n",
    "        model.add_abs_equality(model.NewIntVar(2000, 10**9, ''), x[i]-x[j])\n",
    "    \n",
    "    for i in range(n):\n",
    "        for j in range(n):\n",
    "            model.add(x[i]<=3*x[j])\n",
    "    \n",
    "\n",
    "    solver = cp_model.CpSolver()\n",
    "    status = solver.Solve(model)\n",
    "\n",
    "    if status == cp_model.FEASIBLE or status == cp_model.OPTIMAL:\n",
    "        result = [solver.Value(i) for i in x]\n",
    "        print(\"The population of cities are: \", result)\n",
    "    \n",
    "    else:\n",
    "        print(\"Solution not found.\")\n",
    "\n",
    "\n",
    "\n",
    "n = 4 \n",
    "m = 3 \n",
    "graph = [(0, 1), (1, 2), (2, 3),(0,2),(0,3)]  \n",
    "solve_problem(n, m, graph)\n"
   ]
  }
 ],
 "metadata": {
  "kernelspec": {
   "display_name": "Python 3",
   "language": "python",
   "name": "python3"
  },
  "language_info": {
   "codemirror_mode": {
    "name": "ipython",
    "version": 3
   },
   "file_extension": ".py",
   "mimetype": "text/x-python",
   "name": "python",
   "nbconvert_exporter": "python",
   "pygments_lexer": "ipython3",
   "version": "3.10.12"
  }
 },
 "nbformat": 4,
 "nbformat_minor": 2
}
