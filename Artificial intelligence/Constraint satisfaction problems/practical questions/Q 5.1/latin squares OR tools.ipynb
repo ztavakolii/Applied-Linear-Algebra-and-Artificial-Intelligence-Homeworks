{
 "cells": [
  {
   "cell_type": "code",
   "execution_count": 3,
   "metadata": {},
   "outputs": [
    {
     "name": "stdout",
     "output_type": "stream",
     "text": [
      "Solution not found.\n"
     ]
    }
   ],
   "source": [
    "from ortools.sat.python import cp_model\n",
    "\n",
    "def solve_problem(n):\n",
    "    \n",
    "    model = cp_model.CpModel()\n",
    "\n",
    "   \n",
    "    x = [[model.NewIntVar(1, n, f'') for j in range(n)] for i in range(n)]\n",
    "    y = [[model.NewIntVar(1, n, f'') for j in range(n)] for i in range(n)]\n",
    "\n",
    "    \n",
    "    for i in range(n):\n",
    "        model.AddAllDifferent([x[i][j] for j in range(n)])  # elements of each row of x must be different\n",
    "        model.AddAllDifferent([y[i][j] for j in range(n)])  # elements of each row of y must be different\n",
    "    for j in range(n):\n",
    "        model.AddAllDifferent([x[i][j] for i in range(n)])  # elements of each column of x must be different\n",
    "        model.AddAllDifferent([y[i][j] for i in range(n)])  # elements of each column of y must be different\n",
    "    \n",
    "    for i in range(n):\n",
    "        for j in range(n):\n",
    "            for r in range(n):\n",
    "                for s in range(n):\n",
    "                    if (i != r or j != s):\n",
    "                        model.Add((x[i][j] != x[r][s]) or (y[i][j] != y[r][s])) # each ordered pair must be unique\n",
    "\n",
    "    \n",
    "    solver = cp_model.CpSolver()\n",
    "    status = solver.Solve(model)\n",
    "\n",
    "   \n",
    "    if status == cp_model.FEASIBLE or status == cp_model.OPTIMAL:\n",
    "        print(\"Orthogonal Latin squares are:\")\n",
    "        for i in range(n):\n",
    "            print([solver.Value(x[i][j]) for j in range(n)], [solver.Value(y[i][j]) for j in range(n)])\n",
    "    else:\n",
    "        print(\"Solution not found.\")\n",
    "\n",
    "n=int(input('Enter dimensions of squares: '))\n",
    "solve_problem(n)\n"
   ]
  }
 ],
 "metadata": {
  "kernelspec": {
   "display_name": "Python 3",
   "language": "python",
   "name": "python3"
  },
  "language_info": {
   "codemirror_mode": {
    "name": "ipython",
    "version": 3
   },
   "file_extension": ".py",
   "mimetype": "text/x-python",
   "name": "python",
   "nbconvert_exporter": "python",
   "pygments_lexer": "ipython3",
   "version": "3.10.12"
  }
 },
 "nbformat": 4,
 "nbformat_minor": 2
}
